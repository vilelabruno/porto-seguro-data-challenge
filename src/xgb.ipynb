{
 "cells": [
  {
   "cell_type": "code",
   "execution_count": 1,
   "source": [
    "import numpy as np\n",
    "import pandas as pd\n",
    "import F1Optimizer as f1Opt\n",
    "from sklearn.model_selection import train_test_split\n",
    "from sklearn.model_selection import KFold\n",
    "import xgboost as xgb"
   ],
   "outputs": [],
   "metadata": {}
  },
  {
   "cell_type": "code",
   "execution_count": 2,
   "source": [
    "df_train = pd.read_csv('../data/train.csv')\n",
    "df_test = pd.read_csv('../data/test.csv')\n",
    "\n",
    "\n"
   ],
   "outputs": [],
   "metadata": {}
  },
  {
   "cell_type": "code",
   "execution_count": null,
   "source": [
    "\n",
    "\n"
   ],
   "outputs": [],
   "metadata": {}
  },
  {
   "cell_type": "code",
   "execution_count": null,
   "source": [],
   "outputs": [],
   "metadata": {}
  },
  {
   "cell_type": "code",
   "execution_count": 3,
   "source": [
    "\n",
    "target_train = df_train['y'].values\n",
    "id_test = df_test['id'].values"
   ],
   "outputs": [],
   "metadata": {}
  },
  {
   "cell_type": "code",
   "execution_count": null,
   "source": [
    "for col in df_test.columns:\n",
    "    if (len(df_test[col].unique()) < 100) and (len(df_test[col].unique()) == len(df_train[col].unique())):\n",
    "        df_train = pd.get_dummies(df_train, columns=[col])\n",
    "        df_test = pd.get_dummies(df_test, columns=[col])"
   ],
   "outputs": [],
   "metadata": {}
  },
  {
   "cell_type": "code",
   "execution_count": null,
   "source": [
    "for col in df_test.columns:\n",
    "    \n",
    "    if col not in df_train.columns:\n",
    "        df_train[col] = 0\n",
    "        "
   ],
   "outputs": [],
   "metadata": {}
  },
  {
   "cell_type": "code",
   "execution_count": 36,
   "source": [
    "train = np.array(df_train.drop(['y','id'], axis = 1))\n",
    "test = np.array(df_test.drop(['id'], axis = 1))\n",
    "\n",
    "xgb_preds = []"
   ],
   "outputs": [],
   "metadata": {}
  },
  {
   "cell_type": "code",
   "execution_count": 37,
   "source": [
    "K = 5\n",
    "kf = KFold(n_splits = K, random_state = 3228, shuffle = True)\n",
    "cutPoint = 0.36"
   ],
   "outputs": [],
   "metadata": {}
  },
  {
   "cell_type": "code",
   "execution_count": 38,
   "source": [
    "from sklearn.metrics import f1_score\n",
    "from sklearn.metrics import log_loss\n",
    "def xgb_f1(y, t, threshold=0.5):\n",
    "    t = t.get_label()\n",
    "    y_bin = (y > threshold).astype(int) # works for both type(y) == <class 'numpy.ndarray'> and type(y) == <class 'pandas.core.series.Series'>\n",
    "    return 'f1',f1_score(t,y_bin)\n",
    "err = 0\n",
    "errAuc = 0\n",
    "optG = 0\n",
    "ff = 1\n",
    "for train_index, test_index in kf.split(train, target_train):\n",
    "    train_X, valid_X = train[train_index], train[test_index]\n",
    "    train_y, valid_y = target_train[train_index], target_train[test_index]\n",
    "\n",
    "    # params configuration also from the1owl's kernel\n",
    "    # https://www.kaggle.com/the1owl/forza-baseline\n",
    "    xgb_params = {'eta': 0.02, 'max_depth': 4, 'subsample': 0.9, 'colsample_bytree': 0.9, 'objective': 'binary:logistic', 'eval_metric': 'auc', 'seed': 99, 'silent': True}\n",
    "    #xgb_params = {'eta': 0.4454, 'max_depth': 3, 'subsample': 0.4, 'colsample_bytree': 0.4, 'objective': 'binary:logistic', 'min_child_weight': 0.01004, 'eval_metric': 'auc', 'seed': 99, 'silent': True}\n",
    "\n",
    "    d_train = xgb.DMatrix(train_X, train_y)\n",
    "    d_valid = xgb.DMatrix(valid_X, valid_y)\n",
    "    d_test = xgb.DMatrix(test)\n",
    "    \n",
    "    watchlist = [(d_train, 'train'), (d_valid, 'valid')]\n",
    "    model = xgb.train(xgb_params, d_train, 5000, watchlist, maximize=True, verbose_eval=50, early_stopping_rounds=100)\n",
    "                        \n",
    "    xgb_pred = model.predict(d_test)\n",
    "    p = model.predict(d_valid)\n",
    "\n",
    "    errAuc += log_loss(valid_y, p)\n",
    "    pNone = (1.0 - p).prod()\n",
    "    #opt = f1Opt.F1Optimizer.maximize_expectation(p, pNone)\n",
    "    #opt = 1 - opt[2]\n",
    "    #optG += opt\n",
    "    #opt = optG / ff # test here\n",
    "    ff += 1\n",
    "    p[p > cutPoint] = 1\n",
    "    p[p != 1] = 0\n",
    "    err += f1_score(valid_y, p)\n",
    "    print(err/ff)\n",
    "    xgb_preds.append(list(xgb_pred))"
   ],
   "outputs": [
    {
     "output_type": "stream",
     "name": "stdout",
     "text": [
      "[20:31:34] WARNING: ../src/learner.cc:573: \n",
      "Parameters: { \"silent\" } might not be used.\n",
      "\n",
      "  This may not be accurate due to some parameters are only used in language bindings but\n",
      "  passed down to XGBoost core.  Or some parameters are not used but slip through this\n",
      "  verification. Please open an issue if you find above cases.\n",
      "\n",
      "\n",
      "[0]\ttrain-auc:0.85281\tvalid-auc:0.83511\n",
      "[50]\ttrain-auc:0.87725\tvalid-auc:0.85379\n",
      "[100]\ttrain-auc:0.88476\tvalid-auc:0.86054\n",
      "[150]\ttrain-auc:0.89583\tvalid-auc:0.86989\n",
      "[200]\ttrain-auc:0.90640\tvalid-auc:0.87529\n",
      "[250]\ttrain-auc:0.91472\tvalid-auc:0.87910\n",
      "[300]\ttrain-auc:0.92146\tvalid-auc:0.88156\n",
      "[350]\ttrain-auc:0.92702\tvalid-auc:0.88280\n",
      "[400]\ttrain-auc:0.93232\tvalid-auc:0.88462\n",
      "[450]\ttrain-auc:0.93711\tvalid-auc:0.88527\n",
      "[500]\ttrain-auc:0.94129\tvalid-auc:0.88595\n",
      "[550]\ttrain-auc:0.94524\tvalid-auc:0.88637\n",
      "[600]\ttrain-auc:0.94848\tvalid-auc:0.88659\n",
      "[650]\ttrain-auc:0.95139\tvalid-auc:0.88714\n",
      "[700]\ttrain-auc:0.95438\tvalid-auc:0.88766\n",
      "[750]\ttrain-auc:0.95729\tvalid-auc:0.88820\n",
      "[800]\ttrain-auc:0.95984\tvalid-auc:0.88874\n",
      "[850]\ttrain-auc:0.96219\tvalid-auc:0.88886\n",
      "[900]\ttrain-auc:0.96425\tvalid-auc:0.88876\n",
      "[950]\ttrain-auc:0.96639\tvalid-auc:0.88906\n",
      "[1000]\ttrain-auc:0.96821\tvalid-auc:0.88940\n",
      "[1050]\ttrain-auc:0.97010\tvalid-auc:0.88944\n",
      "[1100]\ttrain-auc:0.97184\tvalid-auc:0.88926\n",
      "[1140]\ttrain-auc:0.97324\tvalid-auc:0.88916\n",
      "0.3243494423791822\n",
      "[20:32:02] WARNING: ../src/learner.cc:573: \n",
      "Parameters: { \"silent\" } might not be used.\n",
      "\n",
      "  This may not be accurate due to some parameters are only used in language bindings but\n",
      "  passed down to XGBoost core.  Or some parameters are not used but slip through this\n",
      "  verification. Please open an issue if you find above cases.\n",
      "\n",
      "\n",
      "[0]\ttrain-auc:0.84764\tvalid-auc:0.83349\n",
      "[50]\ttrain-auc:0.87447\tvalid-auc:0.86009\n",
      "[100]\ttrain-auc:0.88392\tvalid-auc:0.86939\n",
      "[150]\ttrain-auc:0.89448\tvalid-auc:0.87534\n",
      "[200]\ttrain-auc:0.90503\tvalid-auc:0.88051\n",
      "[250]\ttrain-auc:0.91374\tvalid-auc:0.88320\n",
      "[300]\ttrain-auc:0.92087\tvalid-auc:0.88425\n",
      "[350]\ttrain-auc:0.92636\tvalid-auc:0.88525\n",
      "[400]\ttrain-auc:0.93126\tvalid-auc:0.88587\n",
      "[450]\ttrain-auc:0.93544\tvalid-auc:0.88632\n",
      "[500]\ttrain-auc:0.93940\tvalid-auc:0.88667\n",
      "[550]\ttrain-auc:0.94300\tvalid-auc:0.88734\n",
      "[600]\ttrain-auc:0.94654\tvalid-auc:0.88782\n",
      "[650]\ttrain-auc:0.94973\tvalid-auc:0.88793\n",
      "[700]\ttrain-auc:0.95270\tvalid-auc:0.88755\n",
      "[712]\ttrain-auc:0.95344\tvalid-auc:0.88737\n",
      "0.44069779339040277\n",
      "[20:32:23] WARNING: ../src/learner.cc:573: \n",
      "Parameters: { \"silent\" } might not be used.\n",
      "\n",
      "  This may not be accurate due to some parameters are only used in language bindings but\n",
      "  passed down to XGBoost core.  Or some parameters are not used but slip through this\n",
      "  verification. Please open an issue if you find above cases.\n",
      "\n",
      "\n",
      "[0]\ttrain-auc:0.85006\tvalid-auc:0.82696\n",
      "[50]\ttrain-auc:0.87646\tvalid-auc:0.85777\n",
      "[100]\ttrain-auc:0.88670\tvalid-auc:0.86425\n",
      "[150]\ttrain-auc:0.89817\tvalid-auc:0.86958\n",
      "[200]\ttrain-auc:0.90851\tvalid-auc:0.87336\n",
      "[250]\ttrain-auc:0.91662\tvalid-auc:0.87573\n",
      "[300]\ttrain-auc:0.92338\tvalid-auc:0.87765\n",
      "[350]\ttrain-auc:0.92949\tvalid-auc:0.87787\n",
      "[400]\ttrain-auc:0.93440\tvalid-auc:0.87877\n",
      "[450]\ttrain-auc:0.93864\tvalid-auc:0.87973\n",
      "[500]\ttrain-auc:0.94246\tvalid-auc:0.88044\n",
      "[550]\ttrain-auc:0.94626\tvalid-auc:0.88092\n",
      "[600]\ttrain-auc:0.94964\tvalid-auc:0.88098\n",
      "[650]\ttrain-auc:0.95276\tvalid-auc:0.88153\n",
      "[700]\ttrain-auc:0.95518\tvalid-auc:0.88216\n",
      "[750]\ttrain-auc:0.95784\tvalid-auc:0.88230\n",
      "[800]\ttrain-auc:0.96042\tvalid-auc:0.88236\n",
      "[850]\ttrain-auc:0.96247\tvalid-auc:0.88233\n",
      "[900]\ttrain-auc:0.96457\tvalid-auc:0.88285\n",
      "[950]\ttrain-auc:0.96646\tvalid-auc:0.88275\n",
      "[1000]\ttrain-auc:0.96840\tvalid-auc:0.88294\n",
      "[1050]\ttrain-auc:0.97045\tvalid-auc:0.88285\n",
      "[1095]\ttrain-auc:0.97200\tvalid-auc:0.88293\n",
      "0.4940368585563156\n",
      "[20:32:46] WARNING: ../src/learner.cc:573: \n",
      "Parameters: { \"silent\" } might not be used.\n",
      "\n",
      "  This may not be accurate due to some parameters are only used in language bindings but\n",
      "  passed down to XGBoost core.  Or some parameters are not used but slip through this\n",
      "  verification. Please open an issue if you find above cases.\n",
      "\n",
      "\n",
      "[0]\ttrain-auc:0.84882\tvalid-auc:0.84380\n",
      "[50]\ttrain-auc:0.87476\tvalid-auc:0.86314\n",
      "[100]\ttrain-auc:0.88377\tvalid-auc:0.86951\n",
      "[150]\ttrain-auc:0.89456\tvalid-auc:0.87569\n",
      "[200]\ttrain-auc:0.90525\tvalid-auc:0.88164\n",
      "[250]\ttrain-auc:0.91339\tvalid-auc:0.88418\n",
      "[300]\ttrain-auc:0.92009\tvalid-auc:0.88619\n",
      "[350]\ttrain-auc:0.92564\tvalid-auc:0.88617\n",
      "[400]\ttrain-auc:0.93068\tvalid-auc:0.88728\n",
      "[450]\ttrain-auc:0.93502\tvalid-auc:0.88848\n",
      "[500]\ttrain-auc:0.93890\tvalid-auc:0.88910\n",
      "[550]\ttrain-auc:0.94270\tvalid-auc:0.88982\n",
      "[600]\ttrain-auc:0.94593\tvalid-auc:0.89028\n",
      "[650]\ttrain-auc:0.94885\tvalid-auc:0.89061\n",
      "[700]\ttrain-auc:0.95158\tvalid-auc:0.89086\n",
      "[750]\ttrain-auc:0.95436\tvalid-auc:0.89122\n",
      "[800]\ttrain-auc:0.95691\tvalid-auc:0.89120\n",
      "[850]\ttrain-auc:0.95949\tvalid-auc:0.89149\n",
      "[900]\ttrain-auc:0.96164\tvalid-auc:0.89117\n",
      "[950]\ttrain-auc:0.96386\tvalid-auc:0.89104\n",
      "[961]\ttrain-auc:0.96433\tvalid-auc:0.89119\n",
      "0.5308848488982146\n",
      "[20:33:00] WARNING: ../src/learner.cc:573: \n",
      "Parameters: { \"silent\" } might not be used.\n",
      "\n",
      "  This may not be accurate due to some parameters are only used in language bindings but\n",
      "  passed down to XGBoost core.  Or some parameters are not used but slip through this\n",
      "  verification. Please open an issue if you find above cases.\n",
      "\n",
      "\n",
      "[0]\ttrain-auc:0.84397\tvalid-auc:0.85597\n",
      "[50]\ttrain-auc:0.87284\tvalid-auc:0.87957\n",
      "[100]\ttrain-auc:0.88069\tvalid-auc:0.88385\n",
      "[150]\ttrain-auc:0.89204\tvalid-auc:0.89044\n",
      "[200]\ttrain-auc:0.90262\tvalid-auc:0.89445\n",
      "[250]\ttrain-auc:0.91136\tvalid-auc:0.89706\n",
      "[300]\ttrain-auc:0.91825\tvalid-auc:0.89840\n",
      "[350]\ttrain-auc:0.92380\tvalid-auc:0.89889\n",
      "[400]\ttrain-auc:0.92945\tvalid-auc:0.89901\n",
      "[450]\ttrain-auc:0.93409\tvalid-auc:0.89988\n",
      "[500]\ttrain-auc:0.93831\tvalid-auc:0.89993\n",
      "[550]\ttrain-auc:0.94244\tvalid-auc:0.89995\n",
      "[587]\ttrain-auc:0.94515\tvalid-auc:0.89995\n",
      "0.5592722042488001\n"
     ]
    }
   ],
   "metadata": {}
  },
  {
   "cell_type": "code",
   "execution_count": 45,
   "source": [
    "print(err/5) #print(err/4) #6711266 print(err/5) #print(err/4) #6711266\n",
    "print(errAuc/5) #print(err/4) #6711266 print(err/5) #print(err/4) #6711266\n",
    "print(optG) #print(err/4) #6711266 print(err/5) #print(err/4) #6711266\n",
    "#cutPoint = (optG/5) + .025\n",
    "# 0.6618374999045851\n",
    "# 0.3165819770567079\n",
    "#print(cutPoint) #print(err/)"
   ],
   "outputs": [
    {
     "output_type": "stream",
     "name": "stdout",
     "text": [
      "0.6711266450985601\n",
      "0.3081443192997369\n",
      "0\n"
     ]
    }
   ],
   "metadata": {}
  },
  {
   "cell_type": "code",
   "execution_count": 46,
   "source": [
    "preds=[]\n",
    "for i in range(len(xgb_preds[0])):\n",
    "    sum=0\n",
    "    for j in range(K):\n",
    "        sum+=xgb_preds[j][i]\n",
    "    preds.append(sum / K)\n",
    "\n",
    "output = pd.DataFrame({'id': id_test, 'predicted': preds})\n",
    "\n",
    "output['predicted'][output['predicted'] > cutPoint] = 1\n",
    "output['predicted'][output['predicted'] != 1] = 0\n",
    "output['predicted'] = output['predicted'].astype(int)\n",
    "output.to_csv(\"{}-foldCV_avg_sub_{}_auc_{}_Alldummy_strat.csv\".format(err/5, cutPoint, errAuc/5), index=False)   "
   ],
   "outputs": [
    {
     "output_type": "stream",
     "name": "stderr",
     "text": [
      "<ipython-input-46-9beb95b77828>:10: SettingWithCopyWarning: \n",
      "A value is trying to be set on a copy of a slice from a DataFrame\n",
      "\n",
      "See the caveats in the documentation: https://pandas.pydata.org/pandas-docs/stable/user_guide/indexing.html#returning-a-view-versus-a-copy\n",
      "  output['predicted'][output['predicted'] > cutPoint] = 1\n",
      "<ipython-input-46-9beb95b77828>:11: SettingWithCopyWarning: \n",
      "A value is trying to be set on a copy of a slice from a DataFrame\n",
      "\n",
      "See the caveats in the documentation: https://pandas.pydata.org/pandas-docs/stable/user_guide/indexing.html#returning-a-view-versus-a-copy\n",
      "  output['predicted'][output['predicted'] != 1] = 0\n"
     ]
    }
   ],
   "metadata": {}
  },
  {
   "cell_type": "code",
   "execution_count": 41,
   "source": [
    "sub = pd.read_csv(\"./5-foldCV_avg_sub_36_dummy.csv\")"
   ],
   "outputs": [],
   "metadata": {}
  },
  {
   "cell_type": "code",
   "execution_count": 42,
   "source": [
    "sub[\"v\"] = output[\"predicted\"]"
   ],
   "outputs": [],
   "metadata": {}
  },
  {
   "cell_type": "code",
   "execution_count": 43,
   "source": [
    "sub[\"v2\"] = sub[\"v\"] - sub[\"predicted\"]"
   ],
   "outputs": [],
   "metadata": {}
  },
  {
   "cell_type": "code",
   "execution_count": 47,
   "source": [
    "sub.v2.describe()"
   ],
   "outputs": [
    {
     "output_type": "execute_result",
     "data": {
      "text/plain": [
       "count    21183.000000\n",
       "mean        -0.000330\n",
       "std          0.094459\n",
       "min         -1.000000\n",
       "25%          0.000000\n",
       "50%          0.000000\n",
       "75%          0.000000\n",
       "max          1.000000\n",
       "Name: v2, dtype: float64"
      ]
     },
     "metadata": {},
     "execution_count": 47
    }
   ],
   "metadata": {}
  }
 ],
 "metadata": {
  "orig_nbformat": 4,
  "language_info": {
   "name": "python",
   "version": "3.8.10",
   "mimetype": "text/x-python",
   "codemirror_mode": {
    "name": "ipython",
    "version": 3
   },
   "pygments_lexer": "ipython3",
   "nbconvert_exporter": "python",
   "file_extension": ".py"
  },
  "kernelspec": {
   "name": "python3",
   "display_name": "Python 3.8.10 64-bit"
  },
  "interpreter": {
   "hash": "916dbcbb3f70747c44a77c7bcd40155683ae19c65e1c03b4aa3499c5328201f1"
  }
 },
 "nbformat": 4,
 "nbformat_minor": 2
}